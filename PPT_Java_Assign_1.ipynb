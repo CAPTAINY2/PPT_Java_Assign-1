{
  "nbformat": 4,
  "nbformat_minor": 0,
  "metadata": {
    "colab": {
      "provenance": [],
      "authorship_tag": "ABX9TyPO6h7OQfm63jeOTO0GDvqB",
      "include_colab_link": true
    },
    "kernelspec": {
      "name": "python3",
      "display_name": "Python 3"
    },
    "language_info": {
      "name": "python"
    }
  },
  "cells": [
    {
      "cell_type": "markdown",
      "metadata": {
        "id": "view-in-github",
        "colab_type": "text"
      },
      "source": [
        "<a href=\"https://colab.research.google.com/github/CAPTAINY2/PPT_Java_Assign-1/blob/main/PPT_Java_Assign_1.ipynb\" target=\"_parent\"><img src=\"https://colab.research.google.com/assets/colab-badge.svg\" alt=\"Open In Colab\"/></a>"
      ]
    },
    {
      "cell_type": "markdown",
      "source": [
        "### QUESTION-1"
      ],
      "metadata": {
        "id": "tJ9x03jp5dur"
      }
    },
    {
      "cell_type": "markdown",
      "source": [
        "**Compiler**:\n",
        "\n",
        "* A compiler is a software program that translates the entire source code of a program into machine code before execution.\n",
        "* The compilation process involves multiple stages, including lexical analysis, parsing, optimization, and code generation.\n",
        "* The compiled machine code is stored as an executable file that can be run independently of the compiler.\n",
        "* During runtime, the compiled program does not need the compiler present. It can be executed directly by the operating system or the target machine's processor.\n",
        "* Compilation usually results in faster execution because the entire code is translated upfront and optimized for the target machine architecture.\n",
        "* Common examples of compiled programming languages include C, C++, Java (with the Just-In-Time compilation phase), and Go.\n",
        "\n",
        "**Interpreter**:\n",
        "\n",
        "* An interpreter is a software program that executes source code line by line, translating and executing each instruction on-the-fly.\n",
        "* The interpretation process involves reading and executing code statements sequentially, without generating an intermediary compiled representation.\n",
        "* The interpreter directly works with the source code and performs the necessary operations during runtime.\n",
        "* Interpreted code is executed in the context of the interpreter program, which needs to be present during execution.\n",
        "* Since interpretation happens in real-time, it allows for dynamic features like runtime error handling and language flexibility.\n",
        "* Common examples of interpreted programming languages include Python, Ruby, JavaScript, and PHP."
      ],
      "metadata": {
        "id": "0AcMd71Q5h4m"
      }
    },
    {
      "cell_type": "markdown",
      "source": [
        "### QUESTION-2"
      ],
      "metadata": {
        "id": "3D9avLmO6ZVu"
      }
    },
    {
      "cell_type": "markdown",
      "source": [
        "**JDK** (Java Development Kit):\n",
        "\n",
        "* The JDK is a software development kit provided by Oracle Corporation.\n",
        "* It includes tools, libraries, and utilities necessary for Java application development.\n",
        "* The JDK consists of the Java compiler (javac), which converts Java source code into bytecode, and other development tools like java, javap, and javadoc.\n",
        "* It also includes the JRE (Java Runtime Environment) as a subset, allowing developers to compile, debug, and run Java programs on their local machines.\n",
        "* The JDK is primarily used by developers for Java software development.\n",
        "\n",
        "**JRE** (Java Runtime Environment):\n",
        "\n",
        "* The JRE is an environment that provides the necessary runtime support for executing Java applications.\n",
        "* It includes the JVM (Java Virtual Machine) and the core libraries required to run Java programs.\n",
        "* The JRE does not include the Java compiler or development tools like the JDK.\n",
        "* Users who only need to run Java applications, without the need for development, typically install the JRE.\n",
        "* The JRE ensures platform independence by providing a consistent runtime environment across different operating systems.\n",
        "\n",
        "**JVM** (Java Virtual Machine):\n",
        "\n",
        "* The JVM is a virtual machine that executes Java bytecode.\n",
        "* It is the runtime engine of the Java platform and is responsible for running Java applications.\n",
        "* The JVM translates the platform-independent bytecode into machine-specific instructions that can be executed by the host operating system.\n",
        "* It provides various services, such as memory management, garbage collection, and exception handling, to ensure proper execution of Java programs.\n",
        "* The JVM is an integral part of both the JDK and the JRE."
      ],
      "metadata": {
        "id": "e0eCnb3B6b75"
      }
    },
    {
      "cell_type": "markdown",
      "source": [
        "### QUESTION-3"
      ],
      "metadata": {
        "id": "slhf3u1cBrxJ"
      }
    },
    {
      "cell_type": "markdown",
      "source": [
        "There are following types of memory areas allocated by JVM :\n",
        "\n",
        "* Class(Method) Area\n",
        "* Heap\n",
        "* Stack\n",
        "* Program Counter Register\n",
        "* Native Method Stack"
      ],
      "metadata": {
        "id": "Py5GaUz1Bv38"
      }
    },
    {
      "cell_type": "markdown",
      "source": [
        "### QUESTION-4"
      ],
      "metadata": {
        "id": "UTe7DYhoDl-8"
      }
    },
    {
      "cell_type": "markdown",
      "source": [
        "JIT stands for Just-In-Time. In the context of programming languages and runtime environments, a JIT compiler refers to a type of compiler that dynamically compiles and optimizes code during runtime, just before it is executed.\n",
        "\n",
        "Here's how a JIT compiler works:\n",
        "\n",
        "* Interpretation\n",
        "* Profiling\n",
        "* Dynamic Compilation:\n",
        "* Optimization\n",
        "* Execution\n"
      ],
      "metadata": {
        "id": "nifzu4XfDo5_"
      }
    },
    {
      "cell_type": "markdown",
      "source": [
        "### QUESTION-5"
      ],
      "metadata": {
        "id": "rN-IoNqWSLm3"
      }
    },
    {
      "cell_type": "markdown",
      "source": [
        "In Java, there are four access specifiers used to control the visibility or accessibility of classes, methods, and variables. These access specifiers determine which other parts of your program can access a particular class, method, or variable.\n",
        "\n",
        "The four access specifiers in Java are:\n",
        "\n",
        "**Public**: The public access specifier allows unrestricted access from any other part of the program. A public class, method, or variable can be accessed by any other class.\n",
        "\n",
        "**Protected**: The protected access specifier allows access from the same package or subclasses of the class in any package. This means that subclasses can access protected members of their superclass, even if they are in a different package.\n",
        "\n",
        "**Default** (no specifier): If no access specifier is used, it is considered the default access specifier. The default access specifier allows access only within the same package. Classes, methods, and variables with default access are not accessible from outside the package.\n",
        "\n",
        "Private: The private access specifier restricts access to the same class. Private members are not accessible from outside the class in which they are defined. This is the most restrictive access specifier."
      ],
      "metadata": {
        "id": "zgsj8sn3SOJE"
      }
    },
    {
      "cell_type": "markdown",
      "source": [
        "### QUESTION-6"
      ],
      "metadata": {
        "id": "WIo_fdRCSoVJ"
      }
    },
    {
      "cell_type": "markdown",
      "source": [
        "In Java, a compiler is a software tool that translates Java source code, which is written in human-readable form, into a form that can be executed by the computer's processor. The Java compiler is responsible for converting the high-level Java code into a lower-level language called bytecode.\n",
        "\n",
        "The compilation process involves several steps:\n",
        "\n",
        "**Parsing**: The compiler reads the Java source code and verifies its syntax and structure. It checks for any syntax errors and ensures that the code conforms to the rules of the Java programming language.\n",
        "\n",
        "**Semantic** Analysis: After parsing, the compiler performs semantic analysis. It checks the semantics of the code, such as type checking and ensuring that variables and methods are used correctly.\n",
        "\n",
        "**Intermediate** Code Generation: Once the code is parsed and analyzed, the compiler generates an intermediate representation called bytecode. Bytecode is a platform-independent representation of the Java source code and is executed by the Java Virtual Machine (JVM).\n",
        "\n",
        "**Optimization**: Some compilers perform additional optimization steps to improve the performance of the generated bytecode. These optimizations can include removing redundant code, inlining methods, and reordering instructions to make the code more efficient.\n",
        "\n",
        "**Code** Generation: Finally, the compiler translates the intermediate bytecode into machine code that can be executed by the computer's processor. This translation is done by a Just-In-Time (JIT) compiler at runtime or ahead-of-time (AOT) compilation for specific platforms."
      ],
      "metadata": {
        "id": "nSeCT2ccSqss"
      }
    },
    {
      "cell_type": "markdown",
      "source": [
        "### QUESTION-7"
      ],
      "metadata": {
        "id": "oWWb2asQTJt6"
      }
    },
    {
      "cell_type": "markdown",
      "source": [
        "In Java, variables are used to store data and represent values in a program. Variables have different types...\n",
        "\n",
        "1. Primitive Variables: Primitive variables hold simple, basic data types in Java. There are eight primitive types:\n",
        "\n",
        "* byte\n",
        "* short\n",
        "* int\n",
        "* long\n",
        "* float\n",
        "* double\n",
        "* char\n",
        "* boolean\n",
        "\n",
        "2. Reference Variables: Reference variables store references (memory addresses) to objects rather than the actual object data. They are used to work with objects, which are instances of classes or arrays. Reference variables allow accessing the methods and fields of objects.\n",
        "\n",
        "3. Static Variables: Static variables are associated with a class rather than instances of the class. They are declared using the static keyword. Static variables are shared among all objects of a class and can be accessed without creating an instance of the class.\n",
        "\n",
        "4. Instance Variables: Instance variables are non-static variables defined within a class and outside any method. They are unique to each instance (object) of a class and have their separate values. Each object created from a class has its own set of instance variables.\n",
        "\n",
        "5. Local Variables: Local variables are declared within a method, constructor, or block of code. They are created when the method or block is entered and destroyed when it is exited. Local variables are accessible only within the scope where they are defined."
      ],
      "metadata": {
        "id": "9a3fkcB7TRKI"
      }
    },
    {
      "cell_type": "markdown",
      "source": [
        "### QUESTION-8"
      ],
      "metadata": {
        "id": "aKj-tPxDUQgo"
      }
    },
    {
      "cell_type": "markdown",
      "source": [
        "In Java, there are two categories of data types: primitive data types and reference data types. The primitive data types represent basic values, while the reference data types represent objects and references to objects.\n",
        "\n",
        "Primitive Data Types:\n",
        "\n",
        "* byte: Represents a signed 8-bit integer value. Range: -128 to 127.\n",
        "short: Represents a signed 16-bit integer value. Range: -32,768 to 32,767.\n",
        "* int: Represents a signed 32-bit integer value. Range: -2,147,483,648 to 2,147,483,647.\n",
        "* float: Represents a single-precision 32-bit floating-point value. Range: approximately ±3.40282347E+38F.\n",
        "* double: Represents a double-precision 64-bit floating-point value. Range: approximately ±1.79769313486231570E+308.\n",
        "* char: Represents a single Unicode character. Range: 0 to 65,535.\n",
        "* boolean: Represents a boolean value (true or false).\n",
        "\n",
        "Reference Data Types:\n",
        "\n",
        "* Class: Represents a class type.\n",
        "* String: Represents a sequence of characters.\n",
        "* Array: Represents a collection of elements of the same type.\n",
        "* Interface: Represents an interface type.\n",
        "* Enumeration: Represents a set of predefined constants.\n",
        "* Null: Represents the absence of any object reference.\n",
        "\n"
      ],
      "metadata": {
        "id": "Fm2IhZMZUnd0"
      }
    },
    {
      "cell_type": "markdown",
      "source": [
        "### QUESTION-9"
      ],
      "metadata": {
        "id": "Qm1h8_PsVJl6"
      }
    },
    {
      "cell_type": "markdown",
      "source": [
        "In Java, identifiers are names used to identify variables, methods, classes, packages, and other entities within a program. An identifier acts as a unique identifier or label for a specific entity in the code. Here are some rules and conventions for naming identifiers in Java:\n",
        "\n",
        "* **Valid** **Characters**: An identifier can consist of letters (both uppercase and lowercase), digits (0-9), and the underscore character (_). It must start with a letter or underscore, but not with a digit.\n",
        "\n",
        "* **Length**: Identifiers can be of any length. However, it is good practice to keep them meaningful and descriptive while avoiding excessively long names.\n",
        "\n",
        "* **Case** **Sensitivity**: Java is case-sensitive, so uppercase and lowercase letters are considered distinct. For example, myVariable and myvariable are two different identifiers.\n",
        "\n",
        "* **Reserved** **Words**: Java has a set of reserved words (keywords) that have predefined meanings in the language and cannot be used as identifiers. For example, int, class, if, and while are reserved words and cannot be used as identifiers.\n",
        "\n",
        "* **Camel** **Case** : It is a common convention in Java to use camel case for multi-word identifiers (except for class names). Camel case capitalizes the first letter of each word (except the first word) and removes spaces between words. For example: myVariable, calculateTotalAmount(), firstName, etc.\n",
        "\n",
        "* **Variable** **and** **Method** **Names**: Variable and method names should start with a lowercase letter and use camel case for multiple words. For example: myVariable, calculateTotalAmount(), firstName, etc.\n",
        "\n",
        "* Constants: Constants are typically written in uppercase letters with underscores separating words. For example: MAX_VALUE, PI, etc."
      ],
      "metadata": {
        "id": "IXbDfH54VLry"
      }
    },
    {
      "cell_type": "markdown",
      "source": [
        "### QUESTION-10"
      ],
      "metadata": {
        "id": "9Uek_LS4V9Vg"
      }
    },
    {
      "cell_type": "markdown",
      "source": [
        "The Java Virtual Machine (JVM) is the runtime environment that executes Java bytecode. It provides a platform-independent execution environment for Java programs.\n",
        "The architecture of the JVM can be divided into three main components: class loader, execution engine, and runtime data areas.\n",
        "\n",
        "* **Class** **Loader**:\n",
        "\n",
        "* Loading: The class loader is responsible for loading class files into memory. It reads bytecode from class files (typically stored on disk) and creates a binary representation of the class in memory.\n",
        "* Linking: The class loader performs three sub-processes during linking:\n",
        "* Verification: It verifies the bytecode to ensure it is valid, doesn't violate security constraints, and adheres to the Java language and JVM specifications.\n",
        "* Preparation: It allocates memory for class variables and initializes them with their default values.\n",
        "* Resolution: It resolves symbolic references to direct references.\n",
        "* Initialization: The class loader initializes the static variables.\n",
        "\n",
        "* **Execution** **Engine**:\n",
        "\n",
        "* Interpreter: The interpreter reads bytecode instructions one by one and executes them. It is responsible for executing the Java program by interpreting and executing bytecode sequentially.\n",
        "* Just-In-Time (JIT) Compiler: The JIT compiler analyzes the bytecode and identifies frequently executed portions of code, known as hotspots. It compiles these hotspots into machine code to improve execution performance. The compiled code is then stored in the code cache for future use.\n",
        "* Garbage Collector: The garbage collector is responsible for automatic memory management. It identifies and reclaims memory that is no longer in use by the program, freeing up resources.\n",
        "\n",
        "* **Runtime** **Data** **Areas**:\n",
        "\n",
        "* Method Area: The method area stores class-level data, including the runtime constant pool (a table of symbolic references) and the bytecode of methods.\n",
        "* Heap: The heap is a runtime data area where objects are allocated. It is shared among all threads and is divided into generations (Young Generation, Old Generation) for efficient garbage collection.\n",
        "* Java Stack: Each thread in the JVM has its own stack, known as the Java stack. It holds method invocations and local variables. Each method call pushes a new frame onto the stack, and when a method completes, its frame is removed.\n",
        "* PC Registers: Each thread has a program counter (PC) register that keeps track of the currently executing instruction.\n",
        "* Native Method Stacks: It holds native method information and is used for invoking non-Java methods.\n",
        "* Execution Engine-specific Registers: The execution engine may use additional registers."
      ],
      "metadata": {
        "id": "1Vsob4ZgV_1N"
      }
    }
  ]
}